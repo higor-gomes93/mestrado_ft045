{
 "cells": [
  {
   "cell_type": "markdown",
   "id": "882ac5ef-1987-4a79-85e7-cd41df173064",
   "metadata": {},
   "source": [
    "## Trabalho 2"
   ]
  },
  {
   "cell_type": "markdown",
   "id": "91ebc832-991e-4f0e-8f9e-c6e64819597c",
   "metadata": {},
   "source": [
    "#### 1) Importação das Bibliotecas"
   ]
  },
  {
   "cell_type": "code",
   "execution_count": 1,
   "id": "a9221817-de80-4fd9-8cd1-bb23f719fb80",
   "metadata": {},
   "outputs": [],
   "source": [
    "# Importação das bibliotecas\n",
    "import pandas as pd\n",
    "import plotly as plt\n",
    "import plotly.express as px\n",
    "import seaborn as sb\n",
    "import matplotlib.pyplot as plt\n",
    "import plotly.graph_objects as go\n",
    "import numpy as np\n",
    "import json\n",
    "import statistics as st\n",
    "from os import listdir"
   ]
  },
  {
   "cell_type": "markdown",
   "id": "23b0371c-8c6f-4266-87fa-9846e719b0c4",
   "metadata": {},
   "source": [
    "#### 2) Importação da Base de Dados"
   ]
  },
  {
   "cell_type": "code",
   "execution_count": 2,
   "id": "a046d061-5a4f-4035-9d13-76c22320d910",
   "metadata": {},
   "outputs": [],
   "source": [
    "# Definindo a pasta com as pastas de textos\n",
    "main_folder = \"c:/Users/Usuario/Documents/Unicamp/Mestrado/Disciplinas/FT045 - Tópicos em Tecnologia para Informação II/Trabalho 2/bbc\"\n",
    "# Coletando as pastas\n",
    "folders = listdir(main_folder)\n",
    "# Coletando todos os arquivos\n",
    "files_paths = []\n",
    "for i in folders:\n",
    "    new_folder = main_folder+\"/\"+i\n",
    "    raw_files = listdir(new_folder)\n",
    "    files = [new_folder+\"/\"+j for j in raw_files]\n",
    "    files_paths.append(files)"
   ]
  },
  {
   "cell_type": "code",
   "execution_count": 3,
   "id": "559839bf-c6c8-420a-8fe9-1c16298cbb62",
   "metadata": {},
   "outputs": [],
   "source": [
    "# Criando lista com todos os textos por categoria\n",
    "texts_business = [open(i, \"r\").read().replace('\\n', '') for i in files_paths[0]]\n",
    "texts_entertainment = [open(i, \"r\").read().replace('\\n', '') for i in files_paths[1]]\n",
    "texts_politics = [open(i, \"r\").read().replace('\\n', '') for i in files_paths[2]]\n",
    "texts_tech = [open(i, \"r\").read().replace('\\n', '') for i in files_paths[4]]"
   ]
  },
  {
   "cell_type": "code",
   "execution_count": 4,
   "id": "d2ef0f43-e604-44b5-8bc2-73a98bda81e1",
   "metadata": {},
   "outputs": [],
   "source": [
    "# Criando lista com todos os textos por categoria\n",
    "texts_business_raw = [open(i, \"r\").read().split(\"\\n\\n\") for i in files_paths[0]]\n",
    "texts_entertainment_raw = [open(i, \"r\").read().split(\"\\n\\n\") for i in files_paths[1]]\n",
    "texts_politics_raw = [open(i, \"r\").read().split(\"\\n\\n\") for i in files_paths[2]]\n",
    "texts_tech_raw = [open(i, \"r\").read().split(\"\\n\\n\") for i in files_paths[4]]"
   ]
  },
  {
   "cell_type": "markdown",
   "id": "539b17cc-7d09-4f72-b4d8-a4785a0d73e2",
   "metadata": {},
   "source": [
    "#### 3) Tratamento dos Dados"
   ]
  },
  {
   "cell_type": "code",
   "execution_count": 5,
   "id": "1d2c5e1a-ae92-4984-a031-bd4ed12128e0",
   "metadata": {},
   "outputs": [],
   "source": [
    "# Criando listas flats, sendo cada elemento um parágrafo\n",
    "texts_business = [j.replace(\"\\n\", \"\") for i in texts_business_raw for j in i]\n",
    "texts_entertainment = [j.replace(\"\\n\", \"\") for i in texts_entertainment_raw for j in i]\n",
    "texts_politics = [j.replace(\"\\n\", \"\") for i in texts_politics_raw for j in i]\n",
    "texts_tech = [j.replace(\"\\n\", \"\") for i in texts_tech_raw for j in i]"
   ]
  },
  {
   "cell_type": "code",
   "execution_count": 6,
   "id": "72c132fc-42c5-4dfb-a894-d077f9a77335",
   "metadata": {},
   "outputs": [],
   "source": [
    "# Criando listas flats, sendo cada elemento um parágrafo\n",
    "texts_business = [j.replace(\"\\n\", \"\") for i in texts_business_raw for j in i]\n",
    "texts_entertainment = [j.replace(\"\\n\", \"\") for i in texts_entertainment_raw for j in i]\n",
    "texts_politics = [j.replace(\"\\n\", \"\") for i in texts_politics_raw for j in i]\n",
    "texts_tech = [j.replace(\"\\n\", \"\") for i in texts_tech_raw for j in i]"
   ]
  },
  {
   "cell_type": "code",
   "execution_count": 7,
   "id": "e2831871-a8e7-4077-8f36-5890906bc211",
   "metadata": {},
   "outputs": [],
   "source": [
    "# Limpando títulos\n",
    "texts_business = [i for i in texts_business if len(i) > 100]\n",
    "texts_entertainment = [i for i in texts_entertainment if len(i) > 100]\n",
    "texts_politics = [i for i in texts_politics if len(i) > 100]\n",
    "texts_tech = [i for i in texts_tech if len(i) > 100]"
   ]
  },
  {
   "cell_type": "code",
   "execution_count": 8,
   "id": "144b5542-a8e9-4fee-8dfa-aa60e82e9327",
   "metadata": {},
   "outputs": [],
   "source": [
    "# Criando uma lista com os textos\n",
    "texts = [texts_business, texts_entertainment, texts_politics, texts_tech]"
   ]
  },
  {
   "cell_type": "markdown",
   "id": "ae8b44f6-d1c1-4e78-8c47-2298b14fb1cd",
   "metadata": {},
   "source": [
    "#### 4) Definição da Função de Cálculo do Fingerprint"
   ]
  },
  {
   "cell_type": "code",
   "execution_count": 9,
   "id": "4b45bb81-bd15-4fcb-b05b-0cfd71e60a14",
   "metadata": {},
   "outputs": [],
   "source": [
    "def text_fingerprint(text, n):\n",
    "    # Inicializando o vetor de fingerprint\n",
    "    fingerprint = []\n",
    "    # Definindo o tamanho do bloco\n",
    "    while len(text) != 0:\n",
    "        if n <= len(text):\n",
    "            block = text[0:n]\n",
    "            text = text[n:]\n",
    "        else:\n",
    "            block = text\n",
    "            text = []\n",
    "        plain_text = \"\".join(block).split(\".\")\n",
    "        size = [len(i.encode('utf-8')) for i in plain_text]\n",
    "        fingerprint.append(round(st.mean(size), 2))\n",
    "    return fingerprint"
   ]
  }
 ],
 "metadata": {
  "kernelspec": {
   "display_name": "Python 3",
   "language": "python",
   "name": "python3"
  },
  "language_info": {
   "codemirror_mode": {
    "name": "ipython",
    "version": 3
   },
   "file_extension": ".py",
   "mimetype": "text/x-python",
   "name": "python",
   "nbconvert_exporter": "python",
   "pygments_lexer": "ipython3",
   "version": "3.8.8"
  }
 },
 "nbformat": 4,
 "nbformat_minor": 5
}
