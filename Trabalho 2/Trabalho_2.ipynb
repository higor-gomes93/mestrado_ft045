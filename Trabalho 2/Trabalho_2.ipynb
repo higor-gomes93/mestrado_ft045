{
 "cells": [
  {
   "cell_type": "markdown",
   "id": "882ac5ef-1987-4a79-85e7-cd41df173064",
   "metadata": {},
   "source": [
    "## Trabalho 2"
   ]
  },
  {
   "cell_type": "markdown",
   "id": "91ebc832-991e-4f0e-8f9e-c6e64819597c",
   "metadata": {},
   "source": [
    "#### 1) Importação das Bibliotecas"
   ]
  },
  {
   "cell_type": "code",
   "execution_count": 20,
   "id": "a9221817-de80-4fd9-8cd1-bb23f719fb80",
   "metadata": {},
   "outputs": [],
   "source": [
    "# Importação das bibliotecas\n",
    "import pandas as pd\n",
    "import plotly as plt\n",
    "import plotly.express as px\n",
    "import seaborn as sb\n",
    "import matplotlib.pyplot as plt\n",
    "import plotly.graph_objects as go\n",
    "import numpy as np\n",
    "import json\n",
    "import statistics as st\n",
    "from os import listdir\n",
    "import math as math"
   ]
  },
  {
   "cell_type": "markdown",
   "id": "23b0371c-8c6f-4266-87fa-9846e719b0c4",
   "metadata": {},
   "source": [
    "#### 2) Importação da Base de Dados"
   ]
  },
  {
   "cell_type": "code",
   "execution_count": 2,
   "id": "a046d061-5a4f-4035-9d13-76c22320d910",
   "metadata": {},
   "outputs": [],
   "source": [
    "# Definindo a pasta com as pastas de textos\n",
    "main_folder = \"c:/Users/Usuario/Documents/Unicamp/Mestrado/Disciplinas/FT045 - Tópicos em Tecnologia para Informação II/Trabalho 2/bbc\"\n",
    "# Coletando as pastas\n",
    "folders = listdir(main_folder)\n",
    "# Coletando todos os arquivos\n",
    "files_paths = []\n",
    "for i in folders:\n",
    "    new_folder = main_folder+\"/\"+i\n",
    "    raw_files = listdir(new_folder)\n",
    "    files = [new_folder+\"/\"+j for j in raw_files]\n",
    "    files_paths.append(files)"
   ]
  },
  {
   "cell_type": "code",
   "execution_count": 3,
   "id": "559839bf-c6c8-420a-8fe9-1c16298cbb62",
   "metadata": {},
   "outputs": [],
   "source": [
    "# Criando lista com todos os textos por categoria\n",
    "texts_business = [open(i, \"r\").read().replace('\\n', '') for i in files_paths[0]]\n",
    "texts_entertainment = [open(i, \"r\").read().replace('\\n', '') for i in files_paths[1]]\n",
    "texts_politics = [open(i, \"r\").read().replace('\\n', '') for i in files_paths[2]]\n",
    "texts_tech = [open(i, \"r\").read().replace('\\n', '') for i in files_paths[4]]"
   ]
  },
  {
   "cell_type": "code",
   "execution_count": 4,
   "id": "d2ef0f43-e604-44b5-8bc2-73a98bda81e1",
   "metadata": {},
   "outputs": [],
   "source": [
    "# Criando lista com todos os textos por categoria\n",
    "texts_business_raw = [open(i, \"r\").read().split(\"\\n\\n\") for i in files_paths[0]]\n",
    "texts_entertainment_raw = [open(i, \"r\").read().split(\"\\n\\n\") for i in files_paths[1]]\n",
    "texts_politics_raw = [open(i, \"r\").read().split(\"\\n\\n\") for i in files_paths[2]]\n",
    "texts_tech_raw = [open(i, \"r\").read().split(\"\\n\\n\") for i in files_paths[4]]"
   ]
  },
  {
   "cell_type": "markdown",
   "id": "539b17cc-7d09-4f72-b4d8-a4785a0d73e2",
   "metadata": {},
   "source": [
    "#### 3) Tratamento dos Dados"
   ]
  },
  {
   "cell_type": "code",
   "execution_count": 5,
   "id": "1d2c5e1a-ae92-4984-a031-bd4ed12128e0",
   "metadata": {},
   "outputs": [],
   "source": [
    "# Criando listas flats, sendo cada elemento um parágrafo\n",
    "texts_business = [j.replace(\"\\n\", \"\") for i in texts_business_raw for j in i]\n",
    "texts_entertainment = [j.replace(\"\\n\", \"\") for i in texts_entertainment_raw for j in i]\n",
    "texts_politics = [j.replace(\"\\n\", \"\") for i in texts_politics_raw for j in i]\n",
    "texts_tech = [j.replace(\"\\n\", \"\") for i in texts_tech_raw for j in i]"
   ]
  },
  {
   "cell_type": "code",
   "execution_count": 6,
   "id": "72c132fc-42c5-4dfb-a894-d077f9a77335",
   "metadata": {},
   "outputs": [],
   "source": [
    "# Criando listas flats, sendo cada elemento um parágrafo\n",
    "texts_business = [j.replace(\"\\n\", \"\") for i in texts_business_raw for j in i]\n",
    "texts_entertainment = [j.replace(\"\\n\", \"\") for i in texts_entertainment_raw for j in i]\n",
    "texts_politics = [j.replace(\"\\n\", \"\") for i in texts_politics_raw for j in i]\n",
    "texts_tech = [j.replace(\"\\n\", \"\") for i in texts_tech_raw for j in i]"
   ]
  },
  {
   "cell_type": "code",
   "execution_count": 7,
   "id": "e2831871-a8e7-4077-8f36-5890906bc211",
   "metadata": {},
   "outputs": [],
   "source": [
    "# Limpando títulos\n",
    "texts_business = [i for i in texts_business if len(i) > 100]\n",
    "texts_entertainment = [i for i in texts_entertainment if len(i) > 100]\n",
    "texts_politics = [i for i in texts_politics if len(i) > 100]\n",
    "texts_tech = [i for i in texts_tech if len(i) > 100]"
   ]
  },
  {
   "cell_type": "code",
   "execution_count": 8,
   "id": "144b5542-a8e9-4fee-8dfa-aa60e82e9327",
   "metadata": {},
   "outputs": [],
   "source": [
    "# Criando uma lista com os textos\n",
    "texts = [texts_business, texts_entertainment, texts_politics, texts_tech]"
   ]
  },
  {
   "cell_type": "markdown",
   "id": "ae8b44f6-d1c1-4e78-8c47-2298b14fb1cd",
   "metadata": {},
   "source": [
    "#### 4) Definição das Funções de Cálculo do Fingerprint"
   ]
  },
  {
   "cell_type": "code",
   "execution_count": 9,
   "id": "4b45bb81-bd15-4fcb-b05b-0cfd71e60a14",
   "metadata": {},
   "outputs": [],
   "source": [
    "def text_fingerprint(text, n):\n",
    "    # Inicializando o vetor de fingerprint\n",
    "    fingerprint = []\n",
    "    # Definindo o tamanho do bloco\n",
    "    while len(text) != 0:\n",
    "        if n <= len(text):\n",
    "            block = text[0:n]\n",
    "            text = text[n:]\n",
    "        else:\n",
    "            block = text\n",
    "            text = []\n",
    "        plain_text = \"\".join(block).split(\".\")\n",
    "        size = [len(i.encode('utf-8')) for i in plain_text]\n",
    "        fingerprint.append(round(st.mean(size), 2))\n",
    "    return fingerprint"
   ]
  },
  {
   "cell_type": "code",
   "execution_count": 142,
   "id": "f5952e18-cbd9-40bb-8354-b18a0f41b85f",
   "metadata": {},
   "outputs": [],
   "source": [
    "def fingerprint_matrix(text, n):\n",
    "    # Inciializando o fingerprint\n",
    "    fingerprint = text_fingerprint(text, n)\n",
    "    # Achando o primeiro quadrado prefeito\n",
    "    min_square = int(round(math.sqrt(len(fingerprint)), 0))+1\n",
    "    # Encontrando o total de elementos adicionais\n",
    "    elementos_adicionais = min_square**2 - len(fingerprint)\n",
    "    # Adicionando os elementos\n",
    "    fingerprint.extend([\"\"]*elementos_adicionais)\n",
    "    \n",
    "    fingerprint_matrix = []\n",
    "    while fingerprint != []:\n",
    "        fingerprint_matrix.append(fingerprint[0:min_square+1])\n",
    "        if len(fingerprint) != min_square:\n",
    "            fingerprint = fingerprint[min_square:]\n",
    "        else:\n",
    "            fingerprint = []\n",
    "    fingerprint_matrix.pop(-1)\n",
    "    return fingerprint_matrix"
   ]
  },
  {
   "cell_type": "code",
   "execution_count": 143,
   "id": "3134dfd9-1570-49c3-b800-c6cd9c283c45",
   "metadata": {},
   "outputs": [],
   "source": [
    "data = fingerprint_matrix(texts[0], 10)"
   ]
  },
  {
   "cell_type": "code",
   "execution_count": 146,
   "id": "262aed06-1d75-4bff-aee8-6db6db5e4aed",
   "metadata": {},
   "outputs": [
    {
     "data": {
      "application/vnd.plotly.v1+json": {
       "config": {
        "plotlyServerURL": "https://plotly.com"
       },
       "data": [
        {
         "type": "heatmap",
         "z": [
          [
           105.96,
           86.09,
           94.63,
           107.62,
           120.84,
           112.78,
           111.88,
           109.06,
           79.17,
           103.12,
           92.17,
           89.47,
           93.92,
           103.67,
           85.72,
           95.84
          ],
          [
           95.84,
           101.65,
           98.7,
           108.91,
           105.05,
           85.77,
           98.76,
           111.03,
           80.61,
           87.46,
           101.47,
           135.93,
           90.65,
           107.2,
           107.84,
           113.24
          ],
          [
           113.24,
           106.16,
           88,
           99.37,
           99.62,
           82.72,
           82.86,
           98,
           113.79,
           130.07,
           84.11,
           83.4,
           102.26,
           104.54,
           78.91,
           103.65
          ],
          [
           103.65,
           115.51,
           85.21,
           96.6,
           108.05,
           100.29,
           119.89,
           110,
           81.02,
           84.63,
           102.87,
           100.67,
           115.02,
           106.1,
           77.11,
           90.91
          ],
          [
           90.91,
           90.42,
           90.83,
           114.38,
           112.68,
           94.34,
           89.44,
           72.84,
           100.7,
           98.22,
           113.32,
           109,
           115.36,
           114.06,
           107.71,
           92.86
          ],
          [
           92.86,
           109.93,
           88.02,
           116.28,
           116.88,
           96.7,
           115.74,
           100.85,
           106.12,
           98.63,
           122.75,
           117.84,
           109.27,
           113.87,
           92,
           99.55
          ],
          [
           99.55,
           104.2,
           103.47,
           110.7,
           119.06,
           97.74,
           95.7,
           104.03,
           114.39,
           103.18,
           102.26,
           79.71,
           94.78,
           113.77,
           96.05,
           97.11
          ],
          [
           97.11,
           104.3,
           127.75,
           72.14,
           121.29,
           130.24,
           109.07,
           100.75,
           111.81,
           90.83,
           97.95,
           108.73,
           114.09,
           120.71,
           93.35,
           104.09
          ],
          [
           104.09,
           116.14,
           111.09,
           106.51,
           115.8,
           133,
           118.68,
           103.88,
           97.18,
           89.25,
           101.21,
           92.85,
           104.77,
           109.38,
           97.45,
           117.22
          ],
          [
           117.22,
           103.45,
           118.24,
           120.88,
           115.2,
           113.17,
           114.64,
           115.35,
           95.29,
           103.26,
           111.55,
           84.57,
           103.52,
           101.14,
           103.06,
           116.24
          ],
          [
           116.24,
           106.67,
           110.51,
           93.11,
           75.56,
           84.57,
           96.46,
           112.7,
           89.98,
           89.12,
           111.15,
           107.21,
           111.02,
           104.14,
           111.38,
           124.24
          ],
          [
           124.24,
           100.58,
           90.32,
           88.15,
           86.32,
           97.58,
           90.98,
           104.53,
           102.53,
           121.95,
           92.54,
           98.48,
           109.64,
           98.52,
           93.71,
           105.8
          ],
          [
           105.8,
           61.42,
           110.33,
           106.8,
           119.47,
           88.46,
           86.21,
           113.15,
           130.33,
           104.9,
           95.06,
           81.66,
           107.24,
           100.92,
           103.31,
           92.58
          ],
          [
           92.58,
           86.93,
           125.18,
           99.76,
           129.42,
           86.61,
           93.13,
           127.2,
           99.03,
           108.59,
           93.75,
           89.21,
           100.19,
           143.79,
           "",
           ""
          ]
         ]
        }
       ],
       "layout": {
        "height": 500,
        "template": {
         "data": {
          "bar": [
           {
            "error_x": {
             "color": "#2a3f5f"
            },
            "error_y": {
             "color": "#2a3f5f"
            },
            "marker": {
             "line": {
              "color": "#E5ECF6",
              "width": 0.5
             },
             "pattern": {
              "fillmode": "overlay",
              "size": 10,
              "solidity": 0.2
             }
            },
            "type": "bar"
           }
          ],
          "barpolar": [
           {
            "marker": {
             "line": {
              "color": "#E5ECF6",
              "width": 0.5
             },
             "pattern": {
              "fillmode": "overlay",
              "size": 10,
              "solidity": 0.2
             }
            },
            "type": "barpolar"
           }
          ],
          "carpet": [
           {
            "aaxis": {
             "endlinecolor": "#2a3f5f",
             "gridcolor": "white",
             "linecolor": "white",
             "minorgridcolor": "white",
             "startlinecolor": "#2a3f5f"
            },
            "baxis": {
             "endlinecolor": "#2a3f5f",
             "gridcolor": "white",
             "linecolor": "white",
             "minorgridcolor": "white",
             "startlinecolor": "#2a3f5f"
            },
            "type": "carpet"
           }
          ],
          "choropleth": [
           {
            "colorbar": {
             "outlinewidth": 0,
             "ticks": ""
            },
            "type": "choropleth"
           }
          ],
          "contour": [
           {
            "colorbar": {
             "outlinewidth": 0,
             "ticks": ""
            },
            "colorscale": [
             [
              0,
              "#0d0887"
             ],
             [
              0.1111111111111111,
              "#46039f"
             ],
             [
              0.2222222222222222,
              "#7201a8"
             ],
             [
              0.3333333333333333,
              "#9c179e"
             ],
             [
              0.4444444444444444,
              "#bd3786"
             ],
             [
              0.5555555555555556,
              "#d8576b"
             ],
             [
              0.6666666666666666,
              "#ed7953"
             ],
             [
              0.7777777777777778,
              "#fb9f3a"
             ],
             [
              0.8888888888888888,
              "#fdca26"
             ],
             [
              1,
              "#f0f921"
             ]
            ],
            "type": "contour"
           }
          ],
          "contourcarpet": [
           {
            "colorbar": {
             "outlinewidth": 0,
             "ticks": ""
            },
            "type": "contourcarpet"
           }
          ],
          "heatmap": [
           {
            "colorbar": {
             "outlinewidth": 0,
             "ticks": ""
            },
            "colorscale": [
             [
              0,
              "#0d0887"
             ],
             [
              0.1111111111111111,
              "#46039f"
             ],
             [
              0.2222222222222222,
              "#7201a8"
             ],
             [
              0.3333333333333333,
              "#9c179e"
             ],
             [
              0.4444444444444444,
              "#bd3786"
             ],
             [
              0.5555555555555556,
              "#d8576b"
             ],
             [
              0.6666666666666666,
              "#ed7953"
             ],
             [
              0.7777777777777778,
              "#fb9f3a"
             ],
             [
              0.8888888888888888,
              "#fdca26"
             ],
             [
              1,
              "#f0f921"
             ]
            ],
            "type": "heatmap"
           }
          ],
          "heatmapgl": [
           {
            "colorbar": {
             "outlinewidth": 0,
             "ticks": ""
            },
            "colorscale": [
             [
              0,
              "#0d0887"
             ],
             [
              0.1111111111111111,
              "#46039f"
             ],
             [
              0.2222222222222222,
              "#7201a8"
             ],
             [
              0.3333333333333333,
              "#9c179e"
             ],
             [
              0.4444444444444444,
              "#bd3786"
             ],
             [
              0.5555555555555556,
              "#d8576b"
             ],
             [
              0.6666666666666666,
              "#ed7953"
             ],
             [
              0.7777777777777778,
              "#fb9f3a"
             ],
             [
              0.8888888888888888,
              "#fdca26"
             ],
             [
              1,
              "#f0f921"
             ]
            ],
            "type": "heatmapgl"
           }
          ],
          "histogram": [
           {
            "marker": {
             "pattern": {
              "fillmode": "overlay",
              "size": 10,
              "solidity": 0.2
             }
            },
            "type": "histogram"
           }
          ],
          "histogram2d": [
           {
            "colorbar": {
             "outlinewidth": 0,
             "ticks": ""
            },
            "colorscale": [
             [
              0,
              "#0d0887"
             ],
             [
              0.1111111111111111,
              "#46039f"
             ],
             [
              0.2222222222222222,
              "#7201a8"
             ],
             [
              0.3333333333333333,
              "#9c179e"
             ],
             [
              0.4444444444444444,
              "#bd3786"
             ],
             [
              0.5555555555555556,
              "#d8576b"
             ],
             [
              0.6666666666666666,
              "#ed7953"
             ],
             [
              0.7777777777777778,
              "#fb9f3a"
             ],
             [
              0.8888888888888888,
              "#fdca26"
             ],
             [
              1,
              "#f0f921"
             ]
            ],
            "type": "histogram2d"
           }
          ],
          "histogram2dcontour": [
           {
            "colorbar": {
             "outlinewidth": 0,
             "ticks": ""
            },
            "colorscale": [
             [
              0,
              "#0d0887"
             ],
             [
              0.1111111111111111,
              "#46039f"
             ],
             [
              0.2222222222222222,
              "#7201a8"
             ],
             [
              0.3333333333333333,
              "#9c179e"
             ],
             [
              0.4444444444444444,
              "#bd3786"
             ],
             [
              0.5555555555555556,
              "#d8576b"
             ],
             [
              0.6666666666666666,
              "#ed7953"
             ],
             [
              0.7777777777777778,
              "#fb9f3a"
             ],
             [
              0.8888888888888888,
              "#fdca26"
             ],
             [
              1,
              "#f0f921"
             ]
            ],
            "type": "histogram2dcontour"
           }
          ],
          "mesh3d": [
           {
            "colorbar": {
             "outlinewidth": 0,
             "ticks": ""
            },
            "type": "mesh3d"
           }
          ],
          "parcoords": [
           {
            "line": {
             "colorbar": {
              "outlinewidth": 0,
              "ticks": ""
             }
            },
            "type": "parcoords"
           }
          ],
          "pie": [
           {
            "automargin": true,
            "type": "pie"
           }
          ],
          "scatter": [
           {
            "marker": {
             "colorbar": {
              "outlinewidth": 0,
              "ticks": ""
             }
            },
            "type": "scatter"
           }
          ],
          "scatter3d": [
           {
            "line": {
             "colorbar": {
              "outlinewidth": 0,
              "ticks": ""
             }
            },
            "marker": {
             "colorbar": {
              "outlinewidth": 0,
              "ticks": ""
             }
            },
            "type": "scatter3d"
           }
          ],
          "scattercarpet": [
           {
            "marker": {
             "colorbar": {
              "outlinewidth": 0,
              "ticks": ""
             }
            },
            "type": "scattercarpet"
           }
          ],
          "scattergeo": [
           {
            "marker": {
             "colorbar": {
              "outlinewidth": 0,
              "ticks": ""
             }
            },
            "type": "scattergeo"
           }
          ],
          "scattergl": [
           {
            "marker": {
             "colorbar": {
              "outlinewidth": 0,
              "ticks": ""
             }
            },
            "type": "scattergl"
           }
          ],
          "scattermapbox": [
           {
            "marker": {
             "colorbar": {
              "outlinewidth": 0,
              "ticks": ""
             }
            },
            "type": "scattermapbox"
           }
          ],
          "scatterpolar": [
           {
            "marker": {
             "colorbar": {
              "outlinewidth": 0,
              "ticks": ""
             }
            },
            "type": "scatterpolar"
           }
          ],
          "scatterpolargl": [
           {
            "marker": {
             "colorbar": {
              "outlinewidth": 0,
              "ticks": ""
             }
            },
            "type": "scatterpolargl"
           }
          ],
          "scatterternary": [
           {
            "marker": {
             "colorbar": {
              "outlinewidth": 0,
              "ticks": ""
             }
            },
            "type": "scatterternary"
           }
          ],
          "surface": [
           {
            "colorbar": {
             "outlinewidth": 0,
             "ticks": ""
            },
            "colorscale": [
             [
              0,
              "#0d0887"
             ],
             [
              0.1111111111111111,
              "#46039f"
             ],
             [
              0.2222222222222222,
              "#7201a8"
             ],
             [
              0.3333333333333333,
              "#9c179e"
             ],
             [
              0.4444444444444444,
              "#bd3786"
             ],
             [
              0.5555555555555556,
              "#d8576b"
             ],
             [
              0.6666666666666666,
              "#ed7953"
             ],
             [
              0.7777777777777778,
              "#fb9f3a"
             ],
             [
              0.8888888888888888,
              "#fdca26"
             ],
             [
              1,
              "#f0f921"
             ]
            ],
            "type": "surface"
           }
          ],
          "table": [
           {
            "cells": {
             "fill": {
              "color": "#EBF0F8"
             },
             "line": {
              "color": "white"
             }
            },
            "header": {
             "fill": {
              "color": "#C8D4E3"
             },
             "line": {
              "color": "white"
             }
            },
            "type": "table"
           }
          ]
         },
         "layout": {
          "annotationdefaults": {
           "arrowcolor": "#2a3f5f",
           "arrowhead": 0,
           "arrowwidth": 1
          },
          "autotypenumbers": "strict",
          "coloraxis": {
           "colorbar": {
            "outlinewidth": 0,
            "ticks": ""
           }
          },
          "colorscale": {
           "diverging": [
            [
             0,
             "#8e0152"
            ],
            [
             0.1,
             "#c51b7d"
            ],
            [
             0.2,
             "#de77ae"
            ],
            [
             0.3,
             "#f1b6da"
            ],
            [
             0.4,
             "#fde0ef"
            ],
            [
             0.5,
             "#f7f7f7"
            ],
            [
             0.6,
             "#e6f5d0"
            ],
            [
             0.7,
             "#b8e186"
            ],
            [
             0.8,
             "#7fbc41"
            ],
            [
             0.9,
             "#4d9221"
            ],
            [
             1,
             "#276419"
            ]
           ],
           "sequential": [
            [
             0,
             "#0d0887"
            ],
            [
             0.1111111111111111,
             "#46039f"
            ],
            [
             0.2222222222222222,
             "#7201a8"
            ],
            [
             0.3333333333333333,
             "#9c179e"
            ],
            [
             0.4444444444444444,
             "#bd3786"
            ],
            [
             0.5555555555555556,
             "#d8576b"
            ],
            [
             0.6666666666666666,
             "#ed7953"
            ],
            [
             0.7777777777777778,
             "#fb9f3a"
            ],
            [
             0.8888888888888888,
             "#fdca26"
            ],
            [
             1,
             "#f0f921"
            ]
           ],
           "sequentialminus": [
            [
             0,
             "#0d0887"
            ],
            [
             0.1111111111111111,
             "#46039f"
            ],
            [
             0.2222222222222222,
             "#7201a8"
            ],
            [
             0.3333333333333333,
             "#9c179e"
            ],
            [
             0.4444444444444444,
             "#bd3786"
            ],
            [
             0.5555555555555556,
             "#d8576b"
            ],
            [
             0.6666666666666666,
             "#ed7953"
            ],
            [
             0.7777777777777778,
             "#fb9f3a"
            ],
            [
             0.8888888888888888,
             "#fdca26"
            ],
            [
             1,
             "#f0f921"
            ]
           ]
          },
          "colorway": [
           "#636efa",
           "#EF553B",
           "#00cc96",
           "#ab63fa",
           "#FFA15A",
           "#19d3f3",
           "#FF6692",
           "#B6E880",
           "#FF97FF",
           "#FECB52"
          ],
          "font": {
           "color": "#2a3f5f"
          },
          "geo": {
           "bgcolor": "white",
           "lakecolor": "white",
           "landcolor": "#E5ECF6",
           "showlakes": true,
           "showland": true,
           "subunitcolor": "white"
          },
          "hoverlabel": {
           "align": "left"
          },
          "hovermode": "closest",
          "mapbox": {
           "style": "light"
          },
          "paper_bgcolor": "white",
          "plot_bgcolor": "#E5ECF6",
          "polar": {
           "angularaxis": {
            "gridcolor": "white",
            "linecolor": "white",
            "ticks": ""
           },
           "bgcolor": "#E5ECF6",
           "radialaxis": {
            "gridcolor": "white",
            "linecolor": "white",
            "ticks": ""
           }
          },
          "scene": {
           "xaxis": {
            "backgroundcolor": "#E5ECF6",
            "gridcolor": "white",
            "gridwidth": 2,
            "linecolor": "white",
            "showbackground": true,
            "ticks": "",
            "zerolinecolor": "white"
           },
           "yaxis": {
            "backgroundcolor": "#E5ECF6",
            "gridcolor": "white",
            "gridwidth": 2,
            "linecolor": "white",
            "showbackground": true,
            "ticks": "",
            "zerolinecolor": "white"
           },
           "zaxis": {
            "backgroundcolor": "#E5ECF6",
            "gridcolor": "white",
            "gridwidth": 2,
            "linecolor": "white",
            "showbackground": true,
            "ticks": "",
            "zerolinecolor": "white"
           }
          },
          "shapedefaults": {
           "line": {
            "color": "#2a3f5f"
           }
          },
          "ternary": {
           "aaxis": {
            "gridcolor": "white",
            "linecolor": "white",
            "ticks": ""
           },
           "baxis": {
            "gridcolor": "white",
            "linecolor": "white",
            "ticks": ""
           },
           "bgcolor": "#E5ECF6",
           "caxis": {
            "gridcolor": "white",
            "linecolor": "white",
            "ticks": ""
           }
          },
          "title": {
           "x": 0.05
          },
          "xaxis": {
           "automargin": true,
           "gridcolor": "white",
           "linecolor": "white",
           "ticks": "",
           "title": {
            "standoff": 15
           },
           "zerolinecolor": "white",
           "zerolinewidth": 2
          },
          "yaxis": {
           "automargin": true,
           "gridcolor": "white",
           "linecolor": "white",
           "ticks": "",
           "title": {
            "standoff": 15
           },
           "zerolinecolor": "white",
           "zerolinewidth": 2
          }
         }
        },
        "width": 800,
        "xaxis": {
         "autorange": true,
         "range": [
          -0.5,
          15.5
         ]
        },
        "yaxis": {
         "autorange": true,
         "range": [
          -0.5,
          13.5
         ]
        }
       }
      },
      "image/png": "[encoded data removed]",
      "text/html": [
       "<div>                            <div id=\"4f5c08ab-2605-4119-b89a-840ff74e53f4\" class=\"plotly-graph-div\" style=\"height:500px; width:800px;\"></div>            <script type=\"text/javascript\">                require([\"plotly\"], function(Plotly) {                    window.PLOTLYENV=window.PLOTLYENV || {};                                    if (document.getElementById(\"4f5c08ab-2605-4119-b89a-840ff74e53f4\")) {                    Plotly.newPlot(                        \"4f5c08ab-2605-4119-b89a-840ff74e53f4\",                        [{\"type\":\"heatmap\",\"z\":[[105.96,86.09,94.63,107.62,120.84,112.78,111.88,109.06,79.17,103.12,92.17,89.47,93.92,103.67,85.72,95.84],[95.84,101.65,98.7,108.91,105.05,85.77,98.76,111.03,80.61,87.46,101.47,135.93,90.65,107.2,107.84,113.24],[113.24,106.16,88,99.37,99.62,82.72,82.86,98,113.79,130.07,84.11,83.4,102.26,104.54,78.91,103.65],[103.65,115.51,85.21,96.6,108.05,100.29,119.89,110,81.02,84.63,102.87,100.67,115.02,106.1,77.11,90.91],[90.91,90.42,90.83,114.38,112.68,94.34,89.44,72.84,100.7,98.22,113.32,109,115.36,114.06,107.71,92.86],[92.86,109.93,88.02,116.28,116.88,96.7,115.74,100.85,106.12,98.63,122.75,117.84,109.27,113.87,92,99.55],[99.55,104.2,103.47,110.7,119.06,97.74,95.7,104.03,114.39,103.18,102.26,79.71,94.78,113.77,96.05,97.11],[97.11,104.3,127.75,72.14,121.29,130.24,109.07,100.75,111.81,90.83,97.95,108.73,114.09,120.71,93.35,104.09],[104.09,116.14,111.09,106.51,115.8,133,118.68,103.88,97.18,89.25,101.21,92.85,104.77,109.38,97.45,117.22],[117.22,103.45,118.24,120.88,115.2,113.17,114.64,115.35,95.29,103.26,111.55,84.57,103.52,101.14,103.06,116.24],[116.24,106.67,110.51,93.11,75.56,84.57,96.46,112.7,89.98,89.12,111.15,107.21,111.02,104.14,111.38,124.24],[124.24,100.58,90.32,88.15,86.32,97.58,90.98,104.53,102.53,121.95,92.54,98.48,109.64,98.52,93.71,105.8],[105.8,61.42,110.33,106.8,119.47,88.46,86.21,113.15,130.33,104.9,95.06,81.66,107.24,100.92,103.31,92.58],[92.58,86.93,125.18,99.76,129.42,86.61,93.13,127.2,99.03,108.59,93.75,89.21,100.19,143.79,\"\",\"\"]]}],                        {\"height\":500,\"template\":{\"data\":{\"bar\":[{\"error_x\":{\"color\":\"#2a3f5f\"},\"error_y\":{\"color\":\"#2a3f5f\"},\"marker\":{\"line\":{\"color\":\"#E5ECF6\",\"width\":0.5},\"pattern\":{\"fillmode\":\"overlay\",\"size\":10,\"solidity\":0.2}},\"type\":\"bar\"}],\"barpolar\":[{\"marker\":{\"line\":{\"color\":\"#E5ECF6\",\"width\":0.5},\"pattern\":{\"fillmode\":\"overlay\",\"size\":10,\"solidity\":0.2}},\"type\":\"barpolar\"}],\"carpet\":[{\"aaxis\":{\"endlinecolor\":\"#2a3f5f\",\"gridcolor\":\"white\",\"linecolor\":\"white\",\"minorgridcolor\":\"white\",\"startlinecolor\":\"#2a3f5f\"},\"baxis\":{\"endlinecolor\":\"#2a3f5f\",\"gridcolor\":\"white\",\"linecolor\":\"white\",\"minorgridcolor\":\"white\",\"startlinecolor\":\"#2a3f5f\"},\"type\":\"carpet\"}],\"choropleth\":[{\"colorbar\":{\"outlinewidth\":0,\"ticks\":\"\"},\"type\":\"choropleth\"}],\"contour\":[{\"colorbar\":{\"outlinewidth\":0,\"ticks\":\"\"},\"colorscale\":[[0.0,\"#0d0887\"],[0.1111111111111111,\"#46039f\"],[0.2222222222222222,\"#7201a8\"],[0.3333333333333333,\"#9c179e\"],[0.4444444444444444,\"#bd3786\"],[0.5555555555555556,\"#d8576b\"],[0.6666666666666666,\"#ed7953\"],[0.7777777777777778,\"#fb9f3a\"],[0.8888888888888888,\"#fdca26\"],[1.0,\"#f0f921\"]],\"type\":\"contour\"}],\"contourcarpet\":[{\"colorbar\":{\"outlinewidth\":0,\"ticks\":\"\"},\"type\":\"contourcarpet\"}],\"heatmap\":[{\"colorbar\":{\"outlinewidth\":0,\"ticks\":\"\"},\"colorscale\":[[0.0,\"#0d0887\"],[0.1111111111111111,\"#46039f\"],[0.2222222222222222,\"#7201a8\"],[0.3333333333333333,\"#9c179e\"],[0.4444444444444444,\"#bd3786\"],[0.5555555555555556,\"#d8576b\"],[0.6666666666666666,\"#ed7953\"],[0.7777777777777778,\"#fb9f3a\"],[0.8888888888888888,\"#fdca26\"],[1.0,\"#f0f921\"]],\"type\":\"heatmap\"}],\"heatmapgl\":[{\"colorbar\":{\"outlinewidth\":0,\"ticks\":\"\"},\"colorscale\":[[0.0,\"#0d0887\"],[0.1111111111111111,\"#46039f\"],[0.2222222222222222,\"#7201a8\"],[0.3333333333333333,\"#9c179e\"],[0.4444444444444444,\"#bd3786\"],[0.5555555555555556,\"#d8576b\"],[0.6666666666666666,\"#ed7953\"],[0.7777777777777778,\"#fb9f3a\"],[0.8888888888888888,\"#fdca26\"],[1.0,\"#f0f921\"]],\"type\":\"heatmapgl\"}],\"histogram\":[{\"marker\":{\"pattern\":{\"fillmode\":\"overlay\",\"size\":10,\"solidity\":0.2}},\"type\":\"histogram\"}],\"histogram2d\":[{\"colorbar\":{\"outlinewidth\":0,\"ticks\":\"\"},\"colorscale\":[[0.0,\"#0d0887\"],[0.1111111111111111,\"#46039f\"],[0.2222222222222222,\"#7201a8\"],[0.3333333333333333,\"#9c179e\"],[0.4444444444444444,\"#bd3786\"],[0.5555555555555556,\"#d8576b\"],[0.6666666666666666,\"#ed7953\"],[0.7777777777777778,\"#fb9f3a\"],[0.8888888888888888,\"#fdca26\"],[1.0,\"#f0f921\"]],\"type\":\"histogram2d\"}],\"histogram2dcontour\":[{\"colorbar\":{\"outlinewidth\":0,\"ticks\":\"\"},\"colorscale\":[[0.0,\"#0d0887\"],[0.1111111111111111,\"#46039f\"],[0.2222222222222222,\"#7201a8\"],[0.3333333333333333,\"#9c179e\"],[0.4444444444444444,\"#bd3786\"],[0.5555555555555556,\"#d8576b\"],[0.6666666666666666,\"#ed7953\"],[0.7777777777777778,\"#fb9f3a\"],[0.8888888888888888,\"#fdca26\"],[1.0,\"#f0f921\"]],\"type\":\"histogram2dcontour\"}],\"mesh3d\":[{\"colorbar\":{\"outlinewidth\":0,\"ticks\":\"\"},\"type\":\"mesh3d\"}],\"parcoords\":[{\"line\":{\"colorbar\":{\"outlinewidth\":0,\"ticks\":\"\"}},\"type\":\"parcoords\"}],\"pie\":[{\"automargin\":true,\"type\":\"pie\"}],\"scatter\":[{\"marker\":{\"colorbar\":{\"outlinewidth\":0,\"ticks\":\"\"}},\"type\":\"scatter\"}],\"scatter3d\":[{\"line\":{\"colorbar\":{\"outlinewidth\":0,\"ticks\":\"\"}},\"marker\":{\"colorbar\":{\"outlinewidth\":0,\"ticks\":\"\"}},\"type\":\"scatter3d\"}],\"scattercarpet\":[{\"marker\":{\"colorbar\":{\"outlinewidth\":0,\"ticks\":\"\"}},\"type\":\"scattercarpet\"}],\"scattergeo\":[{\"marker\":{\"colorbar\":{\"outlinewidth\":0,\"ticks\":\"\"}},\"type\":\"scattergeo\"}],\"scattergl\":[{\"marker\":{\"colorbar\":{\"outlinewidth\":0,\"ticks\":\"\"}},\"type\":\"scattergl\"}],\"scattermapbox\":[{\"marker\":{\"colorbar\":{\"outlinewidth\":0,\"ticks\":\"\"}},\"type\":\"scattermapbox\"}],\"scatterpolar\":[{\"marker\":{\"colorbar\":{\"outlinewidth\":0,\"ticks\":\"\"}},\"type\":\"scatterpolar\"}],\"scatterpolargl\":[{\"marker\":{\"colorbar\":{\"outlinewidth\":0,\"ticks\":\"\"}},\"type\":\"scatterpolargl\"}],\"scatterternary\":[{\"marker\":{\"colorbar\":{\"outlinewidth\":0,\"ticks\":\"\"}},\"type\":\"scatterternary\"}],\"surface\":[{\"colorbar\":{\"outlinewidth\":0,\"ticks\":\"\"},\"colorscale\":[[0.0,\"#0d0887\"],[0.1111111111111111,\"#46039f\"],[0.2222222222222222,\"#7201a8\"],[0.3333333333333333,\"#9c179e\"],[0.4444444444444444,\"#bd3786\"],[0.5555555555555556,\"#d8576b\"],[0.6666666666666666,\"#ed7953\"],[0.7777777777777778,\"#fb9f3a\"],[0.8888888888888888,\"#fdca26\"],[1.0,\"#f0f921\"]],\"type\":\"surface\"}],\"table\":[{\"cells\":{\"fill\":{\"color\":\"#EBF0F8\"},\"line\":{\"color\":\"white\"}},\"header\":{\"fill\":{\"color\":\"#C8D4E3\"},\"line\":{\"color\":\"white\"}},\"type\":\"table\"}]},\"layout\":{\"annotationdefaults\":{\"arrowcolor\":\"#2a3f5f\",\"arrowhead\":0,\"arrowwidth\":1},\"autotypenumbers\":\"strict\",\"coloraxis\":{\"colorbar\":{\"outlinewidth\":0,\"ticks\":\"\"}},\"colorscale\":{\"diverging\":[[0,\"#8e0152\"],[0.1,\"#c51b7d\"],[0.2,\"#de77ae\"],[0.3,\"#f1b6da\"],[0.4,\"#fde0ef\"],[0.5,\"#f7f7f7\"],[0.6,\"#e6f5d0\"],[0.7,\"#b8e186\"],[0.8,\"#7fbc41\"],[0.9,\"#4d9221\"],[1,\"#276419\"]],\"sequential\":[[0.0,\"#0d0887\"],[0.1111111111111111,\"#46039f\"],[0.2222222222222222,\"#7201a8\"],[0.3333333333333333,\"#9c179e\"],[0.4444444444444444,\"#bd3786\"],[0.5555555555555556,\"#d8576b\"],[0.6666666666666666,\"#ed7953\"],[0.7777777777777778,\"#fb9f3a\"],[0.8888888888888888,\"#fdca26\"],[1.0,\"#f0f921\"]],\"sequentialminus\":[[0.0,\"#0d0887\"],[0.1111111111111111,\"#46039f\"],[0.2222222222222222,\"#7201a8\"],[0.3333333333333333,\"#9c179e\"],[0.4444444444444444,\"#bd3786\"],[0.5555555555555556,\"#d8576b\"],[0.6666666666666666,\"#ed7953\"],[0.7777777777777778,\"#fb9f3a\"],[0.8888888888888888,\"#fdca26\"],[1.0,\"#f0f921\"]]},\"colorway\":[\"#636efa\",\"#EF553B\",\"#00cc96\",\"#ab63fa\",\"#FFA15A\",\"#19d3f3\",\"#FF6692\",\"#B6E880\",\"#FF97FF\",\"#FECB52\"],\"font\":{\"color\":\"#2a3f5f\"},\"geo\":{\"bgcolor\":\"white\",\"lakecolor\":\"white\",\"landcolor\":\"#E5ECF6\",\"showlakes\":true,\"showland\":true,\"subunitcolor\":\"white\"},\"hoverlabel\":{\"align\":\"left\"},\"hovermode\":\"closest\",\"mapbox\":{\"style\":\"light\"},\"paper_bgcolor\":\"white\",\"plot_bgcolor\":\"#E5ECF6\",\"polar\":{\"angularaxis\":{\"gridcolor\":\"white\",\"linecolor\":\"white\",\"ticks\":\"\"},\"bgcolor\":\"#E5ECF6\",\"radialaxis\":{\"gridcolor\":\"white\",\"linecolor\":\"white\",\"ticks\":\"\"}},\"scene\":{\"xaxis\":{\"backgroundcolor\":\"#E5ECF6\",\"gridcolor\":\"white\",\"gridwidth\":2,\"linecolor\":\"white\",\"showbackground\":true,\"ticks\":\"\",\"zerolinecolor\":\"white\"},\"yaxis\":{\"backgroundcolor\":\"#E5ECF6\",\"gridcolor\":\"white\",\"gridwidth\":2,\"linecolor\":\"white\",\"showbackground\":true,\"ticks\":\"\",\"zerolinecolor\":\"white\"},\"zaxis\":{\"backgroundcolor\":\"#E5ECF6\",\"gridcolor\":\"white\",\"gridwidth\":2,\"linecolor\":\"white\",\"showbackground\":true,\"ticks\":\"\",\"zerolinecolor\":\"white\"}},\"shapedefaults\":{\"line\":{\"color\":\"#2a3f5f\"}},\"ternary\":{\"aaxis\":{\"gridcolor\":\"white\",\"linecolor\":\"white\",\"ticks\":\"\"},\"baxis\":{\"gridcolor\":\"white\",\"linecolor\":\"white\",\"ticks\":\"\"},\"bgcolor\":\"#E5ECF6\",\"caxis\":{\"gridcolor\":\"white\",\"linecolor\":\"white\",\"ticks\":\"\"}},\"title\":{\"x\":0.05},\"xaxis\":{\"automargin\":true,\"gridcolor\":\"white\",\"linecolor\":\"white\",\"ticks\":\"\",\"title\":{\"standoff\":15},\"zerolinecolor\":\"white\",\"zerolinewidth\":2},\"yaxis\":{\"automargin\":true,\"gridcolor\":\"white\",\"linecolor\":\"white\",\"ticks\":\"\",\"title\":{\"standoff\":15},\"zerolinecolor\":\"white\",\"zerolinewidth\":2}}},\"width\":800},                        {\"responsive\": true}                    ).then(function(){\n",
       "                            \n",
       "var gd = document.getElementById('4f5c08ab-2605-4119-b89a-840ff74e53f4');\n",
       "var x = new MutationObserver(function (mutations, observer) {{\n",
       "        var display = window.getComputedStyle(gd).display;\n",
       "        if (!display || display === 'none') {{\n",
       "            console.log([gd, 'removed!']);\n",
       "            Plotly.purge(gd);\n",
       "            observer.disconnect();\n",
       "        }}\n",
       "}});\n",
       "\n",
       "// Listen for the removal of the full notebook cells\n",
       "var notebookContainer = gd.closest('#notebook-container');\n",
       "if (notebookContainer) {{\n",
       "    x.observe(notebookContainer, {childList: true});\n",
       "}}\n",
       "\n",
       "// Listen for the clearing of the current output cell\n",
       "var outputEl = gd.closest('.output');\n",
       "if (outputEl) {{\n",
       "    x.observe(outputEl, {childList: true});\n",
       "}}\n",
       "\n",
       "                        })                };                });            </script>        </div>"
      ]
     },
     "metadata": {},
     "output_type": "display_data"
    }
   ],
   "source": [
    "fig = go.Figure(data = go.Heatmap(z = data))\n",
    "fig.update_layout(width = 800, height = 500)\n",
    "fig.update_xaxes()\n",
    "fig.show()"
   ]
  }
 ],
 "metadata": {
  "kernelspec": {
   "display_name": "Python 3",
   "language": "python",
   "name": "python3"
  },
  "language_info": {
   "codemirror_mode": {
    "name": "ipython",
    "version": 3
   },
   "file_extension": ".py",
   "mimetype": "text/x-python",
   "name": "python",
   "nbconvert_exporter": "python",
   "pygments_lexer": "ipython3",
   "version": "3.8.8"
  }
 },
 "nbformat": 4,
 "nbformat_minor": 5
}
