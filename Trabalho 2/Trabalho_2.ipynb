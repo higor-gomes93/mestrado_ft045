{
 "cells": [
  {
   "cell_type": "markdown",
   "id": "882ac5ef-1987-4a79-85e7-cd41df173064",
   "metadata": {},
   "source": [
    "## Trabalho 2"
   ]
  },
  {
   "cell_type": "markdown",
   "id": "91ebc832-991e-4f0e-8f9e-c6e64819597c",
   "metadata": {},
   "source": [
    "#### 1) Importação das Bibliotecas"
   ]
  },
  {
   "cell_type": "code",
   "execution_count": 3,
   "id": "a9221817-de80-4fd9-8cd1-bb23f719fb80",
   "metadata": {},
   "outputs": [],
   "source": [
    "# Importação das bibliotecas\n",
    "import pandas as pd\n",
    "import plotly as plt\n",
    "import plotly.express as px\n",
    "import seaborn as sb\n",
    "import matplotlib.pyplot as plt\n",
    "import plotly.graph_objects as go\n",
    "import numpy as np\n",
    "import json\n",
    "import statistics as st\n",
    "from os import listdir"
   ]
  },
  {
   "cell_type": "markdown",
   "id": "23b0371c-8c6f-4266-87fa-9846e719b0c4",
   "metadata": {},
   "source": [
    "#### 2) Importação da Base de Dados"
   ]
  },
  {
   "cell_type": "code",
   "execution_count": 51,
   "id": "a046d061-5a4f-4035-9d13-76c22320d910",
   "metadata": {},
   "outputs": [],
   "source": [
    "# Definindo a pasta com as pastas de textos\n",
    "main_folder = \"c:/Users/Usuario/Documents/Unicamp/Mestrado/Disciplinas/FT045 - Tópicos em Tecnologia para Informação II/Trabalho 2/bbc\"\n",
    "# Coletando as pastas\n",
    "folders = listdir(main_folder)\n",
    "# Coletando todos os arquivos\n",
    "files_paths = []\n",
    "for i in folders:\n",
    "    new_folder = main_folder+\"/\"+i\n",
    "    raw_files = listdir(new_folder)\n",
    "    files = [new_folder+\"/\"+j for j in raw_files]\n",
    "    files_paths.append(files)"
   ]
  },
  {
   "cell_type": "code",
   "execution_count": 65,
   "id": "559839bf-c6c8-420a-8fe9-1c16298cbb62",
   "metadata": {},
   "outputs": [],
   "source": [
    "# Criando lista com todos os textos por categoria\n",
    "texts_business = [open(i, \"r\").read().replace('\\n', '') for i in files_paths[0]]\n",
    "texts_entertainment = [open(i, \"r\").read().replace('\\n', '') for i in files_paths[1]]\n",
    "texts_politics = [open(i, \"r\").read().replace('\\n', '') for i in files_paths[2]]\n",
    "texts_tech = [open(i, \"r\").read().replace('\\n', '') for i in files_paths[4]]"
   ]
  },
  {
   "cell_type": "markdown",
   "id": "ae8b44f6-d1c1-4e78-8c47-2298b14fb1cd",
   "metadata": {},
   "source": [
    "#### 3) Definição das Funções"
   ]
  },
  {
   "cell_type": "code",
   "execution_count": null,
   "id": "4b45bb81-bd15-4fcb-b05b-0cfd71e60a14",
   "metadata": {},
   "outputs": [],
   "source": []
  }
 ],
 "metadata": {
  "kernelspec": {
   "display_name": "Python 3",
   "language": "python",
   "name": "python3"
  },
  "language_info": {
   "codemirror_mode": {
    "name": "ipython",
    "version": 3
   },
   "file_extension": ".py",
   "mimetype": "text/x-python",
   "name": "python",
   "nbconvert_exporter": "python",
   "pygments_lexer": "ipython3",
   "version": "3.8.8"
  }
 },
 "nbformat": 4,
 "nbformat_minor": 5
}
